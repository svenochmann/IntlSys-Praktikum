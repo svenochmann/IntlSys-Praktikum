{
 "cells": [
  {
   "cell_type": "markdown",
   "id": "527b4387",
   "metadata": {},
   "source": [
    "# Projekt 6: Klassifizierung mit einem Künstlichen Neuronalen Netz"
   ]
  },
  {
   "cell_type": "markdown",
   "id": "6d88f238",
   "metadata": {},
   "source": [
    "Nachdem die Daten soweit wie nötig bereinigt und normalisiert wurden, erstellen Sie bspw. ein neuronales Netz zur Klassifizierung der einzelnen Gegenstände. \n",
    "Orientieren sich die an der mlcourse22.git Übung 7. Sie können auch andere Hilfsmittel bzw. Informationen nutzen.\n",
    "Wenn Sie möchten, können Sie auch andere Klassifikationen anstatt eines neuronalen Netzes nehmen. Die Folgenden Übungen beziehen sich jedoch auf die Implementierung neuronaler Netze.\n",
    "<div>\n",
    "<img src=\"https://upload.wikimedia.org/wikipedia/commons/thumb/3/3d/Neural_network.svg/1200px-Neural_network.svg.png\" width=\"500\"/>\n",
    "</div>\n",
    "Das Bild zeigt schematisch ein neuronales Netz mit einem Input-Layer, einem Hidden-Layer und einem Output-Layer.\n",
    "Der Input-Layer besitzt dabei zwei Neuronen. Der Hidden-Layer ist als Fullyconnected-Layer definiert und verbindet jeweils seine fünf Neuronen mit den jeweiligen zwei Input Neuronen und dem einzelnen Output Neuron.\n"
   ]
  },
  {
   "cell_type": "markdown",
   "id": "e509cb7c",
   "metadata": {},
   "source": [
    "## Übung 1: Vorbereitung der Daten"
   ]
  },
  {
   "cell_type": "markdown",
   "id": "7094babe",
   "metadata": {},
   "source": [
    "<h4>Zur weiteren Bearbeitung müssen ihre bereits bereinigten Daten (siehe Übung 5) aufgeteilt werden. Bei einem Supervised Learning Ansatz müssen sie gleichzeitig die dazugehörigen Labels definieren.</h4>\n",
    "<ul>\n",
    "<li>Erstellen Sie einen Datensatz mit Trainings und Testdaten (x_train,y_test) sowie den Zielwerten (y_train,y_test)</li>\n",
    "<li>Wie müssen die Zielwerte für eine Klassifizierung definiert werden?</li>\n",
    "<li>Wie teilen sie die Daten auf? Wie groß ist ihr Verhältnis zu Test -und Trainingsdaten?</li>\n",
    "</ul>"
   ]
  },
  {
   "cell_type": "markdown",
   "id": "accc0a36",
   "metadata": {},
   "source": [
    "## Übung 2: Progammierung Ihres Klassifikators"
   ]
  },
  {
   "cell_type": "markdown",
   "id": "7d5a7467",
   "metadata": {},
   "source": [
    "<h4> Progammierung Sie Klassifikator. Neben neuronalen Netzen gibt es auch weitere Klassifikationsmodelle, wie k-nearest neighbor oder eine SVM. Für diese Übung können sie einen Klassifikator Ihrer Wahl nutzen. Die folgenden Fragen beziehen sich jedoch auf die Probleme für neuronale Netze. </h4>\n",
    "<ul>\n",
    "    <li>Überlegen Sie sich welche Arichtektur Ihr neuronales Netz haben soll?</li>\n",
    "    <ul>\n",
    "        <li>Informieren sie sich welche Typen von Layern es gibt!</li>\n",
    "        <li>Welcher Layer ist für ihr Problem Sinnvoll?</li>\n",
    "    </ul>\n",
    "    <li>Wie viele Neuronen besitzt der Input -und Output layer?</li>\n",
    "    <li>Definieren sie die Aktivierungs -und Verlustfuntkionen</li>\n",
    "    <ul>\n",
    "        <li>Informieren sie sich welche Aktivierungs -und Verlustfuntkionen es gibt!</li>\n",
    "        <li>Überlegen Sie sich, welchen Unterschied sie bei Veränderung der Verlustfunktion erhalten</li>\n",
    "        <li>Überlegen Sie sich, welchen Unterschied sie bei Veränderung der Aktivierungsfunktion erhalten</li>\n",
    "    </ul>\n",
    "</ul>"
   ]
  },
  {
   "cell_type": "markdown",
   "id": "60f12911",
   "metadata": {},
   "source": [
    "## Übung 3: Auswertung"
   ]
  },
  {
   "cell_type": "markdown",
   "id": "eef5547f",
   "metadata": {},
   "source": [
    "<h4> Werten Sie ihre Ergebnisse aus. Versuchen sie ihren Trainingsverlauf und ihr Model zu speichern und zu visualisieren. </h4>\n",
    "<ul>   \n",
    "    <li>Werten Sie die ersten Ergebnisse aus! Was fällt ihnen auf?</li>\n",
    "    <li>Wenn möglich stellen Sie ihre Ergebniss grafisch dar</li>\n",
    "    <li>Stellen Sie den Trainingsverlauf in einem geeigneten Plot dar</li>\n",
    "    <li>Wie hoch ist ihr Loss und ihre Accuracy?</li>\n",
    "    <li>Überlegen Sie sich möglichkeiten die Performance zu steigern</li>\n",
    "</ul>"
   ]
  },
  {
   "cell_type": "markdown",
   "id": "2893d573",
   "metadata": {},
   "source": [
    "## Übung 4: Testen"
   ]
  },
  {
   "cell_type": "markdown",
   "id": "88bc4e2a",
   "metadata": {},
   "source": [
    "<h4> Testen sie ihren Klassifikator mit einem neuen Datensatz. Scannen Sie dafür eines Ihrer Objekte erneut ein und analysieren die Daten.</h4>\n",
    "<ul>   \n",
    "    <li>Wird das Objekt richtig definiert?</li>\n",
    "    <li>Wenn nicht, was könnten mögliche Probleme sein?</li>\n",
    "    </ul>"
   ]
  },
  {
   "cell_type": "markdown",
   "id": "62c8f911",
   "metadata": {},
   "source": [
    "## Beispiel anhand des MNIST Datasets\n",
    "<p style=\"font-size: 12px\"> MNIST Dataset Siehe: http://yann.lecun.com/exdb/mnist/</p>"
   ]
  },
  {
   "cell_type": "markdown",
   "id": "215a6dbe",
   "metadata": {},
   "source": [
    "<h4> MNIST Daten laden</h4>"
   ]
  },
  {
   "cell_type": "code",
   "execution_count": 1,
   "id": "743a2fc4",
   "metadata": {},
   "outputs": [
    {
     "name": "stderr",
     "output_type": "stream",
     "text": [
      "2022-12-08 12:16:49.464086: W tensorflow/stream_executor/platform/default/dso_loader.cc:64] Could not load dynamic library 'libcudart.so.11.0'; dlerror: libcudart.so.11.0: cannot open shared object file: No such file or directory\n",
      "2022-12-08 12:16:49.464164: I tensorflow/stream_executor/cuda/cudart_stub.cc:29] Ignore above cudart dlerror if you do not have a GPU set up on your machine.\n"
     ]
    }
   ],
   "source": [
    "# Laden der benötigten Bibliotheken\n",
    "import tensorflow as tf\n",
    "import keras\n",
    "from keras.datasets import mnist\n",
    "# Laden der Trainings und Testdaten aus dem mnist Dataset\n",
    "(x_train, y_train), (x_test, y_test) = mnist.load_data() "
   ]
  },
  {
   "cell_type": "markdown",
   "id": "add80598",
   "metadata": {},
   "source": [
    "<h4>Darstellung der Bilder</h4>"
   ]
  },
  {
   "cell_type": "code",
   "execution_count": 2,
   "id": "f14924e2",
   "metadata": {},
   "outputs": [
    {
     "data": {
      "image/png": "[encoded data removed]",
      "text/plain": [
       "<Figure size 720x720 with 10 Axes>"
      ]
     },
     "metadata": {
      "needs_background": "light"
     },
     "output_type": "display_data"
    }
   ],
   "source": [
    "# Laden der benötigten Bibliotheken\n",
    "import matplotlib.pyplot as plt\n",
    "# Anzahl der angezeigten Bilder definieren\n",
    "num_row=10\n",
    "num_col=1\n",
    "num_images=(num_row*num_col)\n",
    "# Zufällige Bilder entnehmen\n",
    "images = x_train[:num_images]\n",
    "labels = y_train[:num_images]\n",
    "# Bilder plotten\n",
    "fig, axes = plt.subplots(num_row, num_col, figsize=(10,10))\n",
    "for i in range(num_images):\n",
    "    ax = plt.subplot(1, 10, i + 1)\n",
    "    ax.imshow(images[i], cmap='gray')\n",
    "    ax.set_title('Label: {}'.format(labels[i]))\n",
    "plt.show()"
   ]
  },
  {
   "cell_type": "markdown",
   "id": "3fff3e80",
   "metadata": {},
   "source": [
    "<h4> Bilder Vorbearbeiten </h4>"
   ]
  },
  {
   "cell_type": "code",
   "execution_count": 3,
   "id": "528e2df3",
   "metadata": {},
   "outputs": [],
   "source": [
    "x_train = x_train.reshape((60000, 28, 28, 1))\n",
    "x_train = x_train.astype('float32') / 255 \n",
    "x_test = x_test.reshape((10000, 28, 28, 1))\n",
    "x_test = x_test.astype('float32') / 255"
   ]
  },
  {
   "cell_type": "markdown",
   "id": "0adb36e2",
   "metadata": {},
   "source": [
    "<h4> Label One-Hot-Encoden </h4>"
   ]
  },
  {
   "cell_type": "code",
   "execution_count": 7,
   "id": "0783f729",
   "metadata": {},
   "outputs": [],
   "source": [
    "# Laden der benötigten Bibliotheken\n",
    "from tensorflow.keras.utils import to_categorical\n",
    "# Bilder One-Hot-Encoden\n",
    "y_train = to_categorical(y_train)\n",
    "y_test = to_categorical(y_test)"
   ]
  },
  {
   "cell_type": "markdown",
   "id": "5cd87ba5",
   "metadata": {},
   "source": [
    "<h3> Aufbau neuronales Netz <h3>"
   ]
  },
  {
   "cell_type": "code",
   "execution_count": 5,
   "id": "a3402ff1",
   "metadata": {},
   "outputs": [
    {
     "name": "stderr",
     "output_type": "stream",
     "text": [
      "2022-12-08 12:17:13.765789: W tensorflow/stream_executor/platform/default/dso_loader.cc:64] Could not load dynamic library 'libcuda.so.1'; dlerror: libcuda.so.1: cannot open shared object file: No such file or directory\n",
      "2022-12-08 12:17:13.765859: W tensorflow/stream_executor/cuda/cuda_driver.cc:269] failed call to cuInit: UNKNOWN ERROR (303)\n",
      "2022-12-08 12:17:13.765949: I tensorflow/stream_executor/cuda/cuda_diagnostics.cc:156] kernel driver does not appear to be running on this host (mltljh): /proc/driver/nvidia/version does not exist\n",
      "2022-12-08 12:17:13.767292: I tensorflow/core/platform/cpu_feature_guard.cc:151] This TensorFlow binary is optimized with oneAPI Deep Neural Network Library (oneDNN) to use the following CPU instructions in performance-critical operations:  AVX2 FMA\n",
      "To enable them in other operations, rebuild TensorFlow with the appropriate compiler flags.\n"
     ]
    },
    {
     "name": "stdout",
     "output_type": "stream",
     "text": [
      "Model: \"sequential\"\n",
      "_________________________________________________________________\n",
      " Layer (type)                Output Shape              Param #   \n",
      "=================================================================\n",
      " conv2d (Conv2D)             (None, 28, 28, 32)        320       \n",
      "                                                                 \n",
      " max_pooling2d (MaxPooling2D  (None, 14, 14, 32)       0         \n",
      " )                                                               \n",
      "                                                                 \n",
      " conv2d_1 (Conv2D)           (None, 14, 14, 16)        4624      \n",
      "                                                                 \n",
      " max_pooling2d_1 (MaxPooling  (None, 7, 7, 16)         0         \n",
      " 2D)                                                             \n",
      "                                                                 \n",
      " conv2d_2 (Conv2D)           (None, 7, 7, 16)          2320      \n",
      "                                                                 \n",
      " max_pooling2d_2 (MaxPooling  (None, 3, 3, 16)         0         \n",
      " 2D)                                                             \n",
      "                                                                 \n",
      " dropout (Dropout)           (None, 3, 3, 16)          0         \n",
      "                                                                 \n",
      " flatten (Flatten)           (None, 144)               0         \n",
      "                                                                 \n",
      " dense (Dense)               (None, 128)               18560     \n",
      "                                                                 \n",
      " dense_1 (Dense)             (None, 64)                8256      \n",
      "                                                                 \n",
      " dense_2 (Dense)             (None, 10)                650       \n",
      "                                                                 \n",
      "=================================================================\n",
      "Total params: 34,730\n",
      "Trainable params: 34,730\n",
      "Non-trainable params: 0\n",
      "_________________________________________________________________\n"
     ]
    }
   ],
   "source": [
    "# Laden der benötigten Bibliotheken\n",
    "from keras import models\n",
    "from keras import layers\n",
    "from keras import regularizers\n",
    "# Neuronales Netz mit verschiedenen Layern erstellen\n",
    "model = models.Sequential()\n",
    "model.add(layers.Conv2D(32, (3, 3), padding = 'same', activation = 'relu', input_shape = (28, 28, 1)))\n",
    "model.add(layers.MaxPooling2D(2, 2))\n",
    "model.add(layers.Conv2D(16, (3, 3), padding = 'same', activation = 'relu'))\n",
    "model.add(layers.MaxPooling2D(2, 2))\n",
    "model.add(layers.Conv2D(16, (3, 3), padding = 'same', activation = 'relu'))\n",
    "model.add(layers.MaxPooling2D(2, 2))\n",
    "model.add(layers.Dropout(0.4))\n",
    "model.add(layers.Flatten())\n",
    "model.add(layers.Dense(128, kernel_regularizer = regularizers.l2(0.007), activation='relu'))\n",
    "model.add(layers.Dense(64 , activation='relu'))\n",
    "model.add(layers.Dense(10 , activation='softmax'))\n",
    "# Kompilieren\n",
    "model.compile(\n",
    "    optimizer='rmsprop', \n",
    "    loss='categorical_crossentropy', \n",
    "    metrics=['accuracy']\n",
    ")\n",
    "# Zusammenfassunf\n",
    "model.summary()"
   ]
  },
  {
   "cell_type": "markdown",
   "id": "d555bd80",
   "metadata": {},
   "source": [
    "<h3> Das Modell trainieren </h3>"
   ]
  },
  {
   "cell_type": "code",
   "execution_count": 9,
   "id": "3d19784c",
   "metadata": {},
   "outputs": [
    {
     "name": "stdout",
     "output_type": "stream",
     "text": [
      "Epoch 1/15\n",
      "844/844 [==============================] - 37s 44ms/step - loss: 0.4324 - accuracy: 0.9161 - val_loss: 0.1853 - val_accuracy: 0.9685\n",
      "Epoch 2/15\n",
      "844/844 [==============================] - 36s 43ms/step - loss: 0.2339 - accuracy: 0.9458 - val_loss: 0.1128 - val_accuracy: 0.9793\n",
      "Epoch 3/15\n",
      "844/844 [==============================] - 36s 43ms/step - loss: 0.1876 - accuracy: 0.9542 - val_loss: 0.1060 - val_accuracy: 0.9805\n",
      "Epoch 4/15\n",
      "844/844 [==============================] - 36s 43ms/step - loss: 0.1663 - accuracy: 0.9594 - val_loss: 0.0973 - val_accuracy: 0.9795\n",
      "Epoch 5/15\n",
      "844/844 [==============================] - 36s 42ms/step - loss: 0.1501 - accuracy: 0.9630 - val_loss: 0.0855 - val_accuracy: 0.9825\n",
      "Epoch 6/15\n",
      "844/844 [==============================] - 36s 42ms/step - loss: 0.1414 - accuracy: 0.9651 - val_loss: 0.0745 - val_accuracy: 0.9878\n",
      "Epoch 7/15\n",
      "844/844 [==============================] - 36s 43ms/step - loss: 0.1311 - accuracy: 0.9676 - val_loss: 0.0725 - val_accuracy: 0.9862\n",
      "Epoch 8/15\n",
      "844/844 [==============================] - 35s 42ms/step - loss: 0.1244 - accuracy: 0.9694 - val_loss: 0.0741 - val_accuracy: 0.9845\n",
      "Epoch 9/15\n",
      "844/844 [==============================] - 35s 42ms/step - loss: 0.1170 - accuracy: 0.9715 - val_loss: 0.0624 - val_accuracy: 0.9883\n",
      "Epoch 10/15\n",
      "844/844 [==============================] - 35s 42ms/step - loss: 0.1130 - accuracy: 0.9711 - val_loss: 0.0561 - val_accuracy: 0.9895\n",
      "Epoch 11/15\n",
      "844/844 [==============================] - 35s 41ms/step - loss: 0.1103 - accuracy: 0.9720 - val_loss: 0.0638 - val_accuracy: 0.9880\n",
      "Epoch 12/15\n",
      "844/844 [==============================] - 35s 41ms/step - loss: 0.1070 - accuracy: 0.9735 - val_loss: 0.0695 - val_accuracy: 0.9860\n",
      "Epoch 13/15\n",
      "844/844 [==============================] - 35s 41ms/step - loss: 0.1030 - accuracy: 0.9748 - val_loss: 0.0591 - val_accuracy: 0.9897\n",
      "Epoch 14/15\n",
      "844/844 [==============================] - 35s 41ms/step - loss: 0.0986 - accuracy: 0.9752 - val_loss: 0.0534 - val_accuracy: 0.9905\n",
      "Epoch 15/15\n",
      "844/844 [==============================] - 35s 41ms/step - loss: 0.0945 - accuracy: 0.9770 - val_loss: 0.0539 - val_accuracy: 0.9897\n",
      "It took: 533.6937351226807\n"
     ]
    }
   ],
   "source": [
    "# Laden der benötigten Bibliotheken\n",
    "import time\n",
    "# Messen der Trainingszeit\n",
    "start = time.time()\n",
    "# Trainingsstart\n",
    "history = model.fit(\n",
    "    x_train, y_train,\n",
    "    epochs= 15,\n",
    "    batch_size= 64,\n",
    "    shuffle = True,\n",
    "    validation_split = 0.2\n",
    ")\n",
    "print(\"It took:\", time.time() - start)"
   ]
  },
  {
   "cell_type": "markdown",
   "id": "a0c17673",
   "metadata": {},
   "source": [
    "<h4>Visualisierung der Ergebnisse</h4>"
   ]
  },
  {
   "cell_type": "code",
   "execution_count": 18,
   "id": "f5759ab9",
   "metadata": {},
   "outputs": [
    {
     "data": {
      "image/png": "[encoded data removed]",
      "text/plain": [
       "<Figure size 432x288 with 1 Axes>"
      ]
     },
     "metadata": {
      "needs_background": "light"
     },
     "output_type": "display_data"
    },
    {
     "name": "stdout",
     "output_type": "stream",
     "text": [
      "Abb 1: Anstieg der Genauigkeit über die Epochen\n",
      "\n"
     ]
    },
    {
     "data": {
      "image/png": "[encoded data removed]",
      "text/plain": [
       "<Figure size 432x288 with 1 Axes>"
      ]
     },
     "metadata": {
      "needs_background": "light"
     },
     "output_type": "display_data"
    },
    {
     "name": "stdout",
     "output_type": "stream",
     "text": [
      "Abb 2: Abnahme des Fehlers über die Epochen\n",
      "\n"
     ]
    }
   ],
   "source": [
    "acc = history.history['accuracy']\n",
    "val_acc = history.history['val_accuracy']\n",
    "loss = history.history['loss']\n",
    "val_loss = history.history['val_loss']\n",
    "epochs = range(1, len(acc) + 1)\n",
    "plt.plot(epochs, acc, 'bo', label='Training acc')\n",
    "plt.plot(epochs, val_acc, 'b', label='Validation acc')\n",
    "plt.title('Training and validation accuracy')\n",
    "plt.legend()\n",
    "plt.show()\n",
    "print(\"Abb 1: Anstieg der Genauigkeit über die Epochen\")\n",
    "print(\"\")\n",
    "plt.plot(epochs, loss, 'bo', label='Training loss')\n",
    "plt.plot(epochs, val_loss, 'b', label='Validation loss')\n",
    "plt.title('Training and validation loss')\n",
    "plt.legend()\n",
    "plt.show()\n",
    "print(\"Abb 2: Abnahme des Fehlers über die Epochen\")\n",
    "print(\"\")"
   ]
  }
 ],
 "metadata": {
  "kernelspec": {
   "display_name": "Python 3 (ipykernel)",
   "language": "python",
   "name": "python3"
  },
  "language_info": {
   "codemirror_mode": {
    "name": "ipython",
    "version": 3
   },
   "file_extension": ".py",
   "mimetype": "text/x-python",
   "name": "python",
   "nbconvert_exporter": "python",
   "pygments_lexer": "ipython3",
   "version": "3.9.7"
  },
  "varInspector": {
   "cols": {
    "lenName": 16,
    "lenType": 16,
    "lenVar": 40
   },
   "kernels_config": {
    "python": {
     "delete_cmd_postfix": "",
     "delete_cmd_prefix": "del ",
     "library": "var_list.py",
     "varRefreshCmd": "print(var_dic_list())"
    },
    "r": {
     "delete_cmd_postfix": ") ",
     "delete_cmd_prefix": "rm(",
     "library": "var_list.r",
     "varRefreshCmd": "cat(var_dic_list()) "
    }
   },
   "types_to_exclude": [
    "module",
    "function",
    "builtin_function_or_method",
    "instance",
    "_Feature"
   ],
   "window_display": false
  }
 },
 "nbformat": 4,
 "nbformat_minor": 5
}
